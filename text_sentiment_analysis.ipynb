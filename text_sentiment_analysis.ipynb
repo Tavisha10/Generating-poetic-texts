{
  "nbformat": 4,
  "nbformat_minor": 0,
  "metadata": {
    "colab": {
      "provenance": [],
      "authorship_tag": "ABX9TyPLoXBlhVNHDC4LmPdXJ71I",
      "include_colab_link": true
    },
    "kernelspec": {
      "name": "python3",
      "display_name": "Python 3"
    },
    "language_info": {
      "name": "python"
    }
  },
  "cells": [
    {
      "cell_type": "markdown",
      "metadata": {
        "id": "view-in-github",
        "colab_type": "text"
      },
      "source": [
        "<a href=\"https://colab.research.google.com/github/Tavisha10/python_AI_projects/blob/main/text_sentiment_analysis.ipynb\" target=\"_parent\"><img src=\"https://colab.research.google.com/assets/colab-badge.svg\" alt=\"Open In Colab\"/></a>"
      ]
    },
    {
      "cell_type": "code",
      "source": [
        "!pip install newspaper3k\n",
        "!pip install textblob"
      ],
      "metadata": {
        "id": "Lp6zY0ejFQkt"
      },
      "execution_count": null,
      "outputs": []
    },
    {
      "cell_type": "code",
      "execution_count": 10,
      "metadata": {
        "id": "UCjc5LB90NdQ"
      },
      "outputs": [],
      "source": [
        "from textblob import TextBlob\n",
        "from newspaper import Article\n"
      ]
    },
    {
      "cell_type": "code",
      "source": [
        "url = 'https://en.wikipedia.org/wiki/2024_Kolkata_rape_and_murder'\n",
        "# murder news article\n",
        "article = Article(url)\n",
        "article.download()\n",
        "article.parse()\n",
        "article.nlp()\n",
        "\n",
        "text = article.summary\n",
        "print(text)\n",
        "\n",
        "# product review\n",
        "'''with open('mytext1.txt', 'r') as file:\n",
        "    text = file.read()'''\n",
        "blob = TextBlob(text)\n",
        "sentiment = blob.sentiment.polarity\n",
        "print(f'Sentiment: {sentiment}')\n",
        "print(f'Sentiment: {\"Positive\" if sentiment > 0 else \"Negative\" if sentiment < 0 else \"Neutral\"}')"
      ],
      "metadata": {
        "colab": {
          "base_uri": "https://localhost:8080/"
        },
        "id": "b4AZWMazDM41",
        "outputId": "013019a9-8b2e-49c8-8f23-7342929cdbe5"
      },
      "execution_count": 21,
      "outputs": [
        {
          "output_type": "stream",
          "name": "stdout",
          "text": [
            "Assault and rape incident in IndiaOn 9 August 2024, a 31-year-old female postgraduate trainee doctor[4] at R. G. Kar Medical College and Hospital in Kolkata, West Bengal, India, was raped and murdered in a college building.\n",
            "On 10 August 2024, a 33-year-old male civic volunteer working for Kolkata Police was arrested under suspicion of committing the crime.\n",
            "Shortly after his resignation, he was appointed as the principal of Calcutta National Medical College, a move that sparked further outrage.\n",
            "[85]On 1 October, doctors belonging to the West Bengal Junior Doctors’ Front resumed their strike after they had partially lifted it due to the 2024 West Bengal floods.\n",
            "[105]New lawsThe West Bengal government introduced a new bill in the West Bengal Legislative Assembly on 3 September 2024 named the Aparajita Woman and Child Bill (West Bengal Criminal Laws and Amendment), 2024.\n",
            "Sentiment: -0.048863636363636366\n",
            "Sentiment: Negative\n"
          ]
        }
      ]
    }
  ]
}